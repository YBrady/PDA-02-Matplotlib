{
 "cells": [
  {
   "cell_type": "markdown",
   "metadata": {},
   "source": [
    "# Week 4 - NumPy #"
   ]
  },
  {
   "cell_type": "code",
   "execution_count": 1,
   "metadata": {},
   "outputs": [],
   "source": [
    "import numpy as np"
   ]
  },
  {
   "cell_type": "markdown",
   "metadata": {},
   "source": [
    "**numpy.random.rand**  \n",
    "numpy.random.rand(d0, d1, ..., dn)  \n",
    "Random values in a given shape. (The shape = shape of array [r][c]...) \n",
    "\n",
    "Create an array of the given shape and populate it with random samples from a uniform distribution over [0, 1). \"[\" indicates 0 is included, \")\" means 1 is not included.\n",
    "\n",
    "Parameters:\t\n",
    "d0, d1, ..., dn : int, optional\n",
    "\n",
    "The dimensions of the returned array, should all be positive. If no argument is given a single Python float is returned.\n",
    "\n",
    "Returns:\t\n",
    "out : ndarray, shape (d0, d1, ..., dn)\n",
    "\n",
    "Random values."
   ]
  },
  {
   "cell_type": "code",
   "execution_count": 2,
   "metadata": {},
   "outputs": [
    {
     "data": {
      "text/plain": [
       "array([[0.62555785, 0.80877889],\n",
       "       [0.9439202 , 0.28732697],\n",
       "       [0.52305587, 0.92371562]])"
      ]
     },
     "execution_count": 2,
     "metadata": {},
     "output_type": "execute_result"
    }
   ],
   "source": [
    " np.random.rand(3,2)"
   ]
  },
  {
   "cell_type": "code",
   "execution_count": 3,
   "metadata": {},
   "outputs": [],
   "source": [
    "%matplotlib inline\n",
    "import matplotlib.pyplot as plt"
   ]
  },
  {
   "cell_type": "code",
   "execution_count": 4,
   "metadata": {},
   "outputs": [],
   "source": [
    "x = np.random.rand(10000)"
   ]
  },
  {
   "cell_type": "code",
   "execution_count": 9,
   "metadata": {},
   "outputs": [
    {
     "data": {
      "text/plain": [
       "(array([ 989.,  982., 1038.,  959., 1033.,  990.,  982., 1020.,  981.,\n",
       "        1026.]),\n",
       " array([1.21166586e-05, 1.00007974e-01, 2.00003832e-01, 2.99999689e-01,\n",
       "        3.99995547e-01, 4.99991404e-01, 5.99987262e-01, 6.99983119e-01,\n",
       "        7.99978977e-01, 8.99974834e-01, 9.99970692e-01]),\n",
       " <a list of 10 Patch objects>)"
      ]
     },
     "execution_count": 9,
     "metadata": {},
     "output_type": "execute_result"
    },
    {
     "data": {
      "image/png": "[encoded data removed]",
      "text/plain": [
       "<Figure size 432x288 with 1 Axes>"
      ]
     },
     "metadata": {
      "needs_background": "light"
     },
     "output_type": "display_data"
    }
   ],
   "source": [
    "plt.hist(x)"
   ]
  },
  {
   "cell_type": "code",
   "execution_count": null,
   "metadata": {},
   "outputs": [],
   "source": [
    "=# Distributions ##"
   ]
  },
  {
   "cell_type": "code",
   "execution_count": 10,
   "metadata": {},
   "outputs": [
    {
     "data": {
      "text/plain": [
       "array([-3.71337148e-01, -7.06393669e-01, -5.23862984e-02, -8.53673223e-01,\n",
       "       -9.35363147e-01, -9.16956419e-01, -4.35781786e-02, -6.74540431e-01,\n",
       "       -3.31850700e-01, -3.12535577e-01, -2.31849922e-01, -7.63924006e-02,\n",
       "       -2.47024032e-01, -3.44006044e-01, -1.83715655e-01, -6.11285914e-01,\n",
       "       -6.84041430e-01, -5.03259616e-01, -4.81713929e-01, -6.49747272e-01,\n",
       "       -9.78092624e-02, -2.55937582e-01, -9.69346465e-01, -5.18117727e-02,\n",
       "       -8.09646685e-01, -4.23253841e-01, -9.62375639e-01, -5.65039944e-01,\n",
       "       -8.21767986e-01, -3.48612048e-01, -3.88958494e-01, -6.59834226e-01,\n",
       "       -2.37588216e-01, -1.02702430e-01, -1.82034000e-01, -2.79552227e-01,\n",
       "       -1.29280011e-02, -6.28977696e-01, -7.10975278e-02, -1.55593936e-01,\n",
       "       -4.24387150e-01, -7.18991528e-01, -8.21006513e-01, -5.86146507e-01,\n",
       "       -6.78438619e-02, -2.00407290e-01, -7.71128107e-01, -7.02435266e-01,\n",
       "       -1.71756343e-01, -6.31315446e-01, -8.33478935e-01, -4.91087423e-01,\n",
       "       -7.49915450e-01, -1.18025609e-01, -8.34944459e-01, -1.86650231e-01,\n",
       "       -6.82980105e-01, -8.47361629e-01, -9.52971356e-01, -3.02731525e-01,\n",
       "       -8.82467463e-01, -7.31730384e-01, -6.35482669e-02, -8.50677686e-01,\n",
       "       -2.73324904e-01, -4.77523995e-01, -7.04071891e-01, -8.11997411e-01,\n",
       "       -5.98681433e-01, -4.35668606e-01, -9.14229285e-01, -6.84271098e-02,\n",
       "       -5.61693298e-01, -5.88316869e-01, -7.39199017e-01, -2.77480023e-03,\n",
       "       -9.43326469e-01, -3.72923700e-01, -1.45940310e-01, -7.54915224e-01,\n",
       "       -3.30111490e-01, -6.76427270e-01, -2.72120700e-01, -7.89496170e-01,\n",
       "       -8.36377407e-01, -5.52464522e-01, -3.02665854e-01, -3.54593402e-01,\n",
       "       -5.51201648e-01, -6.70189108e-01, -2.69633734e-01, -2.52016339e-01,\n",
       "       -3.55784038e-01, -7.79140734e-01, -4.89715311e-01, -6.77370467e-01,\n",
       "       -4.50795877e-01, -1.73782462e-01, -4.79527499e-01, -1.43312017e-01,\n",
       "       -4.29415502e-01, -8.60781797e-01, -1.88372937e-01, -5.47190110e-01,\n",
       "       -1.96503672e-01, -8.24460026e-01, -5.13699105e-01, -1.50282872e-01,\n",
       "       -9.48454106e-01, -9.05138376e-01, -5.23141953e-01, -8.35836969e-01,\n",
       "       -3.86819429e-01, -6.35822017e-02, -3.09212151e-01, -8.16752137e-01,\n",
       "       -7.30213503e-01, -1.37407819e-01, -6.48111938e-01, -6.93762201e-01,\n",
       "       -6.80192916e-01, -4.41965113e-01, -6.17017862e-01, -9.01783872e-01,\n",
       "       -6.70995008e-01, -7.55155043e-02, -2.74698477e-01, -8.78569352e-01,\n",
       "       -8.87183842e-01, -4.32399674e-01, -8.49488083e-02, -9.57851201e-02,\n",
       "       -7.22108815e-01, -9.60328048e-01, -8.67370723e-01, -1.05610859e-01,\n",
       "       -6.64666486e-01, -5.22621179e-01, -4.34807763e-01, -8.85174378e-01,\n",
       "       -3.02928193e-02, -5.48390990e-01, -2.21418632e-01, -9.96471744e-02,\n",
       "       -5.98915025e-01, -1.34029654e-01, -9.95057332e-01, -5.52625929e-01,\n",
       "       -5.06163791e-01, -9.96608684e-02, -8.86903587e-01, -5.31602788e-02,\n",
       "       -6.20303368e-01, -8.49766487e-01, -1.48133708e-01, -1.63888874e-01,\n",
       "       -8.45195761e-01, -8.55563590e-01, -8.82399593e-01, -2.21081057e-01,\n",
       "       -3.91924539e-01, -8.01119342e-01, -5.92041657e-01, -7.95187586e-01,\n",
       "       -7.43813682e-01, -1.61883213e-01, -4.67136891e-02, -8.39679768e-01,\n",
       "       -1.62875110e-01, -5.81339823e-01, -4.06248428e-01, -5.94274077e-01,\n",
       "       -6.80958266e-01, -4.88523670e-01, -1.34709084e-01, -4.41513348e-01,\n",
       "       -8.00183611e-01, -4.46240718e-02, -2.39243417e-01, -9.24897163e-02,\n",
       "       -5.46588650e-01, -7.36934789e-01, -1.80301804e-01, -7.73094671e-01,\n",
       "       -7.66490428e-01, -8.66732922e-01, -4.47283577e-01, -3.45887869e-01,\n",
       "       -4.33879814e-01, -3.35827638e-02, -8.30062372e-01, -6.31496316e-01,\n",
       "       -9.87745925e-01, -8.41356731e-01, -5.21519692e-01, -6.26133523e-02,\n",
       "       -2.88748355e-01, -5.91326995e-01, -7.20631956e-01, -5.15027205e-01,\n",
       "       -4.52241920e-02, -6.71320174e-01, -4.80514925e-01, -5.21527626e-01,\n",
       "       -2.82093658e-01, -3.08334470e-01, -1.04459629e-01, -9.06602103e-01,\n",
       "       -5.16069732e-01, -2.38800527e-01, -9.88332947e-01, -3.94851311e-01,\n",
       "       -9.28250132e-01, -9.46684129e-01, -6.31218513e-01, -9.41601215e-01,\n",
       "       -9.97095984e-01, -7.42743904e-01, -3.25479744e-01, -7.08675501e-01,\n",
       "       -7.53020969e-01, -6.36481792e-02, -1.94826841e-01, -4.04557748e-01,\n",
       "       -6.78752522e-01, -1.44918333e-01, -6.20188805e-01, -1.85873123e-01,\n",
       "       -7.19108051e-01, -9.10509700e-02, -4.13037627e-01, -7.49609479e-03,\n",
       "       -2.92858039e-01, -8.77295789e-01, -3.06072857e-02, -8.35779646e-02,\n",
       "       -5.99398555e-01, -8.47121787e-01, -3.86695415e-01, -2.88983219e-01,\n",
       "       -3.23526889e-01, -5.95342712e-01, -7.82101257e-01, -6.30833031e-01,\n",
       "       -1.21425484e-01, -6.06580197e-01, -8.98488922e-01, -8.08412456e-02,\n",
       "       -9.68848973e-01, -6.81568187e-01, -9.84241278e-01, -5.44496761e-01,\n",
       "       -1.14093147e-01, -7.15650634e-01, -9.17486800e-01, -3.55884286e-01,\n",
       "       -3.37608146e-01, -9.49680215e-02, -2.14823490e-01, -2.68074879e-02,\n",
       "       -5.55155943e-01, -2.04676530e-01, -9.24389417e-01, -4.68329465e-01,\n",
       "       -2.15791748e-01, -1.58447880e-01, -4.06374991e-01, -5.51348618e-02,\n",
       "       -2.47058503e-01, -9.11072298e-01, -6.05117851e-01, -7.44270728e-01,\n",
       "       -8.11510580e-01, -5.16418853e-01, -9.14048826e-01, -5.41589644e-01,\n",
       "       -4.93687090e-01, -5.78147134e-02, -4.53362554e-01, -9.11891774e-01,\n",
       "       -9.02586201e-01, -2.86162104e-01, -1.56137436e-01, -8.05913708e-01,\n",
       "       -2.71240466e-01, -6.41099431e-01, -1.91310917e-01, -3.62214237e-02,\n",
       "       -5.42265023e-01, -2.61181530e-02, -4.13759729e-01, -6.26007839e-01,\n",
       "       -3.14318803e-01, -3.57992779e-02, -1.34134023e-03, -5.28326711e-01,\n",
       "       -6.08565981e-02, -9.21422835e-01, -4.59070188e-01, -7.86250456e-01,\n",
       "       -1.61640295e-01, -2.11080453e-01, -6.64272921e-01, -1.25443397e-01,\n",
       "       -8.32907914e-01, -1.82886920e-02, -8.93460383e-01, -8.88970047e-01,\n",
       "       -9.18848867e-01, -3.29130008e-01, -8.94476581e-01, -8.57894113e-01,\n",
       "       -8.40994375e-01, -2.60353111e-01, -2.09291116e-01, -5.34798069e-01,\n",
       "       -3.58107635e-01, -2.10242611e-01, -3.37605210e-01, -6.97200847e-01,\n",
       "       -5.18169740e-01, -9.98812881e-01, -3.06419675e-01, -3.07917511e-01,\n",
       "       -5.96624040e-01, -7.18729049e-01, -3.56950460e-01, -9.55648426e-01,\n",
       "       -6.97017580e-01, -8.44501716e-01, -3.47692874e-01, -9.16461035e-02,\n",
       "       -2.89115787e-01, -3.71024540e-01, -5.05737480e-01, -5.08498999e-01,\n",
       "       -4.94794124e-01, -6.21570116e-01, -4.05155527e-01, -5.42140734e-01,\n",
       "       -1.40945709e-01, -8.29496466e-01, -9.14965320e-03, -7.94686996e-01,\n",
       "       -1.46418221e-01, -4.94280528e-01, -2.13361556e-01, -3.39629322e-01,\n",
       "       -8.54180158e-01, -7.65998518e-01, -6.56116135e-01, -7.72507777e-01,\n",
       "       -5.89168623e-01, -8.95327543e-01, -9.24865508e-02, -6.68290381e-01,\n",
       "       -7.59427247e-01, -2.91896929e-01, -7.60471653e-01, -7.32107633e-01,\n",
       "       -4.21882099e-01, -3.83811453e-01, -9.37570556e-01, -6.06573736e-01,\n",
       "       -5.96791530e-01, -5.83829960e-01, -7.29190491e-01, -2.25467666e-01,\n",
       "       -4.52015666e-01, -5.34475191e-01, -4.89011212e-01, -7.33593277e-01,\n",
       "       -8.72785704e-01, -1.64583663e-02, -5.27564281e-01, -7.52957836e-01,\n",
       "       -7.87956836e-01, -3.60431358e-01, -8.50045163e-01, -1.31865103e-02,\n",
       "       -4.36821212e-02, -8.51299784e-01, -8.21568014e-01, -5.10971533e-01,\n",
       "       -8.71140378e-01, -5.02152150e-01, -5.95377527e-01, -7.50350661e-01,\n",
       "       -6.27444535e-01, -1.33340265e-01, -5.99432234e-01, -4.66783145e-01,\n",
       "       -8.77806271e-01, -2.18859876e-01, -6.94807885e-01, -8.14209231e-01,\n",
       "       -3.93601190e-02, -6.11782349e-01, -9.84727616e-01, -3.03568932e-01,\n",
       "       -5.45749015e-01, -6.87921108e-01, -2.15402406e-01, -2.80086360e-01,\n",
       "       -5.41722162e-01, -6.75710663e-01, -4.65633512e-01, -5.48401479e-01,\n",
       "       -4.69896237e-01, -2.95650025e-01, -3.58774975e-01, -4.79680355e-01,\n",
       "       -4.35376679e-01, -7.61113587e-01, -4.26050149e-01, -2.60087404e-01,\n",
       "       -8.61980092e-01, -1.77229680e-01, -7.87123791e-01, -7.22263566e-01,\n",
       "       -3.12491135e-01, -1.25316462e-01, -6.59852701e-01, -8.77019700e-01,\n",
       "       -6.69892389e-01, -3.71237852e-01, -7.89520186e-01, -9.21268350e-01,\n",
       "       -7.82277684e-02, -1.20176609e-01, -1.93112103e-01, -4.64975140e-01,\n",
       "       -7.59981074e-01, -6.36798027e-01, -4.31929347e-01, -4.74964658e-01,\n",
       "       -7.71972450e-01, -2.61135836e-01, -2.54028866e-01, -5.86204574e-01,\n",
       "       -4.84687875e-01, -9.43995222e-01, -4.83986985e-01, -7.26831224e-01,\n",
       "       -7.48754424e-02, -9.97869858e-01, -6.63180194e-01, -3.11875091e-01,\n",
       "       -9.53189099e-01, -7.45100361e-01, -3.52415023e-03, -6.66530032e-01,\n",
       "       -6.28265795e-01, -4.68574789e-01, -2.06520226e-02, -8.04969697e-01,\n",
       "       -7.59012798e-01, -6.84576991e-01, -5.93659379e-01, -7.57693866e-01,\n",
       "       -5.00729376e-01, -9.45292153e-01, -1.31596559e-01, -4.10867360e-01,\n",
       "       -5.27554927e-01, -1.26947368e-01, -7.62285659e-01, -5.13883989e-01,\n",
       "       -1.93791986e-02, -1.05301299e-01, -7.32317242e-01, -7.27152742e-01,\n",
       "       -8.62689944e-01, -6.59326653e-02, -4.99231894e-01, -8.40798839e-01,\n",
       "       -1.71138249e-01, -7.64786143e-01, -6.41770671e-01, -5.44000283e-02,\n",
       "       -2.07708018e-01, -1.73426310e-01, -5.22849929e-02, -1.26439022e-01,\n",
       "       -9.82971939e-01, -2.36969674e-01, -8.94982519e-01, -1.01367840e-01,\n",
       "       -1.96087622e-01, -2.44971356e-01, -7.38594957e-01, -6.33080170e-01,\n",
       "       -6.27499718e-02, -2.28702958e-01, -7.35850172e-01, -4.55300003e-01,\n",
       "       -2.11767066e-01, -3.22298716e-01, -9.04636424e-01, -4.19161942e-01,\n",
       "       -8.65905912e-01, -9.95156382e-02, -8.65640082e-02, -1.13681506e-01,\n",
       "       -2.06560705e-01, -5.49707949e-01, -4.70626014e-01, -5.34557796e-01,\n",
       "       -3.39129701e-01, -1.93949661e-01, -6.81812159e-01, -7.56488818e-01,\n",
       "       -9.41182514e-01, -6.64400332e-01, -2.57197132e-01, -3.07526209e-01,\n",
       "       -4.93605027e-01, -5.06476657e-01, -5.72178390e-01, -9.96726901e-02,\n",
       "       -6.71512427e-03, -9.89469628e-01, -8.45367402e-01, -5.09301046e-01,\n",
       "       -9.45712878e-01, -8.20349041e-01, -3.62062361e-01, -9.42201980e-01,\n",
       "       -7.46783237e-01, -7.19950776e-01, -4.89322821e-01, -3.34173688e-01,\n",
       "       -1.15601392e-01, -3.47459789e-01, -9.14379599e-03, -7.14046734e-01,\n",
       "       -5.60028730e-01, -6.67716299e-02, -2.50352381e-01, -3.45476468e-01,\n",
       "       -2.79624908e-01, -4.72511859e-02, -1.64475459e-01, -7.73446037e-01,\n",
       "       -2.81762863e-01, -3.11748992e-01, -6.96314283e-01, -6.64538416e-02,\n",
       "       -6.49545139e-01, -2.02231821e-01, -2.56189932e-01, -8.41614307e-01,\n",
       "       -8.98903586e-01, -3.21341576e-01, -3.33421347e-01, -6.76156735e-01,\n",
       "       -4.99484135e-01, -1.23840178e-01, -9.01695396e-01, -4.54015676e-01,\n",
       "       -5.45472773e-01, -9.87685924e-01, -7.34759456e-01, -8.47559441e-01,\n",
       "       -1.10394283e-01, -4.04995805e-01, -8.78605182e-01, -3.16907444e-02,\n",
       "       -2.22645528e-01, -9.93839837e-01, -5.25500568e-02, -2.28505712e-01,\n",
       "       -6.96224489e-01, -9.07333188e-01, -7.39091705e-01, -3.68660845e-01,\n",
       "       -8.16112927e-02, -6.49855999e-01, -6.64369290e-01, -1.77142748e-01,\n",
       "       -6.45293246e-01, -9.72627758e-01, -3.93672994e-01, -9.34803771e-01,\n",
       "       -1.31575808e-01, -2.60965158e-01, -5.06585972e-01, -6.67843073e-01,\n",
       "       -3.86786673e-01, -9.66347746e-01, -1.63548734e-01, -6.08078506e-02,\n",
       "       -8.81537371e-01, -5.04179585e-01, -2.28816515e-01, -7.22627123e-01,\n",
       "       -9.38813285e-01, -3.07688831e-01, -7.48103422e-01, -3.94938337e-02,\n",
       "       -6.56435453e-01, -6.08542030e-01, -1.50447284e-01, -9.30900868e-01,\n",
       "       -3.14490045e-01, -2.09734931e-01, -4.48093369e-01, -2.58265604e-01,\n",
       "       -3.03317988e-01, -7.26454374e-01, -3.96037777e-01, -7.35592831e-01,\n",
       "       -3.56824466e-01, -3.07516050e-03, -8.45835474e-01, -9.92582802e-01,\n",
       "       -8.17947922e-02, -3.48840287e-01, -1.40929087e-01, -4.59625637e-01,\n",
       "       -8.69307487e-01, -8.30979819e-01, -3.19522067e-01, -8.62520544e-01,\n",
       "       -4.80435055e-01, -3.38719622e-01, -6.58751368e-01, -9.79403567e-01,\n",
       "       -5.52440705e-01, -4.33281594e-01, -3.54681372e-01, -9.26664929e-01,\n",
       "       -4.82938731e-01, -1.27354252e-01, -1.27950729e-02, -1.67233545e-01,\n",
       "       -9.02985382e-01, -3.45487776e-01, -1.81982882e-01, -3.63074089e-01,\n",
       "       -5.51686950e-01, -3.48912758e-01, -9.84466067e-01, -1.07833541e-01,\n",
       "       -1.16802660e-01, -7.81822591e-01, -8.25718898e-01, -9.27340009e-01,\n",
       "       -3.52696842e-01, -5.39598608e-01, -6.94178820e-01, -2.61215354e-01,\n",
       "       -9.29582013e-01, -8.52797575e-01, -6.75776779e-01, -2.75923965e-01,\n",
       "       -2.08087177e-01, -3.43452722e-01, -3.73169020e-02, -9.56382430e-01,\n",
       "       -6.14088219e-01, -8.98787199e-01, -3.27738390e-01, -1.63777671e-01,\n",
       "       -4.09409678e-01, -7.08299037e-01, -6.35284462e-01, -5.76099826e-01,\n",
       "       -6.35322139e-01, -8.77028851e-01, -6.09280185e-01, -2.90450707e-01,\n",
       "       -1.10631774e-01, -1.11801848e-01, -4.55646845e-01, -9.79071154e-03,\n",
       "       -2.11762193e-01, -4.18047550e-01, -2.30209283e-01, -7.26680997e-01,\n",
       "       -7.18012524e-01, -6.90125827e-01, -7.62503099e-01, -8.99595054e-01,\n",
       "       -9.15118297e-01, -1.91569191e-01, -4.60628429e-01, -9.27285380e-01,\n",
       "       -8.68360196e-01, -1.86637260e-01, -8.06482004e-01, -3.68389581e-01,\n",
       "       -3.67900595e-02, -8.05952838e-01, -9.91832933e-01, -4.16412102e-01,\n",
       "       -1.46339940e-01, -8.26936258e-02, -4.01055360e-01, -9.65372463e-01,\n",
       "       -7.57779582e-01, -9.89004950e-01, -2.75459779e-01, -1.61920379e-01,\n",
       "       -4.26053727e-01, -1.77481950e-01, -2.41588671e-01, -8.95823624e-01,\n",
       "       -9.55779902e-01, -5.03444297e-01, -2.34750470e-01, -7.52037916e-01,\n",
       "       -9.05677063e-01, -7.06650085e-01, -8.75272857e-04, -7.84120769e-01,\n",
       "       -8.66802623e-01, -1.02374595e-01, -5.49372794e-01, -6.31705566e-01,\n",
       "       -2.72594860e-02, -7.40799074e-01, -8.84456778e-01, -6.11390315e-01,\n",
       "       -7.05001327e-01, -3.38076321e-02, -7.63915136e-02, -1.57441141e-01,\n",
       "       -1.39427927e-01, -6.00618986e-01, -8.59715139e-01, -7.00395274e-01,\n",
       "       -4.19716501e-02, -9.01173839e-02, -7.02631795e-01, -5.04706229e-02,\n",
       "       -7.41924611e-01, -6.89639060e-01, -8.62840436e-01, -7.36043994e-01,\n",
       "       -6.77033872e-01, -7.58587688e-01, -6.25645357e-01, -4.61445648e-01,\n",
       "       -4.05305645e-01, -2.36728077e-01, -9.83119193e-01, -2.90537870e-01,\n",
       "       -7.23612375e-01, -8.48544424e-01, -7.55894527e-01, -5.29209932e-01,\n",
       "       -6.85533593e-01, -7.76821472e-01, -1.89565915e-01, -9.00329871e-01,\n",
       "       -2.10864548e-01, -2.66786993e-01, -4.55987070e-01, -1.83095845e-01,\n",
       "       -6.21875047e-02, -7.08425311e-01, -3.42996849e-01, -4.59029554e-02,\n",
       "       -4.76868017e-01, -2.67574980e-01, -9.97684198e-01, -9.61661160e-01,\n",
       "       -2.66753061e-01, -5.70382864e-01, -5.32940402e-01, -1.81539288e-01,\n",
       "       -9.16283354e-01, -8.62671579e-01, -5.02341421e-01, -9.23346550e-01,\n",
       "       -3.90119253e-01, -7.43388062e-01, -6.58390888e-01, -3.85394747e-01,\n",
       "       -3.42652640e-01, -1.10947163e-01, -4.03045468e-01, -5.20583347e-01,\n",
       "       -9.34092424e-01, -8.55654883e-02, -3.05944504e-01, -2.22895168e-01,\n",
       "       -8.33703424e-01, -7.42288047e-01, -1.62833767e-01, -8.07169336e-03,\n",
       "       -5.55323202e-01, -4.02872636e-01, -8.25469626e-01, -2.15857720e-01,\n",
       "       -8.93521903e-01, -9.76516292e-01, -1.95534913e-02, -3.52374072e-01,\n",
       "       -9.90487780e-01, -4.37455041e-01, -7.45571548e-01, -4.18042350e-01,\n",
       "       -7.16228007e-01, -9.09515355e-02, -1.80678015e-01, -3.02018585e-01,\n",
       "       -4.04586181e-01, -3.97987182e-01, -2.17992782e-01, -3.15970706e-01,\n",
       "       -1.11821008e-01, -2.81339838e-01, -7.29558379e-02, -6.30925311e-01,\n",
       "       -6.08566189e-01, -5.84424381e-01, -2.60707601e-01, -9.85566333e-01,\n",
       "       -7.68617180e-02, -2.86394022e-01, -7.19918055e-01, -5.88379076e-01,\n",
       "       -5.45075119e-01, -4.33221978e-01, -1.56411030e-01, -5.37468955e-01,\n",
       "       -3.44027965e-01, -2.77697619e-01, -4.07310988e-01, -5.15398835e-01,\n",
       "       -8.54208039e-01, -2.63296206e-02, -8.05764182e-01, -5.04178400e-01,\n",
       "       -3.90136871e-01, -2.07086589e-01, -4.12207853e-01, -8.85901710e-01,\n",
       "       -5.68390201e-01, -3.03669018e-01, -1.76727336e-01, -8.41986155e-01,\n",
       "       -4.53169607e-01, -7.80122823e-01, -2.29792068e-01, -9.79128344e-01,\n",
       "       -4.80958695e-01, -5.84302646e-01, -4.42272086e-01, -4.64525996e-01,\n",
       "       -8.11024083e-01, -9.60252865e-01, -9.40861000e-01, -2.42988313e-01,\n",
       "       -5.30080749e-01, -4.62924163e-01, -4.02701872e-01, -8.81151752e-02,\n",
       "       -1.15703844e-01, -4.38874951e-02, -1.27086845e-01, -6.05626740e-01,\n",
       "       -4.64268415e-01, -5.10720315e-01, -3.11860789e-01, -9.11172662e-01,\n",
       "       -5.38740993e-01, -5.22386228e-01, -6.52735326e-01, -5.71569321e-01,\n",
       "       -9.07835282e-01, -9.76501298e-01, -8.88279897e-01, -7.93785864e-01,\n",
       "       -8.77391188e-02, -5.57517343e-02, -4.51354352e-01, -3.06293723e-01,\n",
       "       -1.64428370e-02, -3.65621536e-01, -6.88447009e-01, -2.59054912e-01,\n",
       "       -8.48395094e-01, -1.07140078e-01, -8.00352729e-02, -9.46824667e-01,\n",
       "       -3.29023427e-01, -7.52385516e-02, -1.67318787e-01, -3.12129060e-01,\n",
       "       -4.17569354e-01, -2.16195158e-01, -9.85893529e-01, -4.41727272e-02,\n",
       "       -5.82535936e-02, -2.97864295e-02, -9.54911320e-01, -5.65480526e-01,\n",
       "       -3.63895439e-01, -1.74802320e-01, -9.70404741e-02, -3.97203166e-02,\n",
       "       -1.07272563e-01, -8.71595186e-01, -8.33209731e-01, -9.54388456e-01,\n",
       "       -7.24025589e-01, -7.36026452e-01, -3.96883401e-01, -6.90184617e-01,\n",
       "       -4.80986220e-01, -8.61105311e-01, -6.82643382e-01, -5.55133438e-01,\n",
       "       -9.65858201e-02, -9.74122988e-01, -6.93997402e-01, -5.41859072e-01,\n",
       "       -5.88510375e-01, -5.11036076e-01, -2.84399122e-01, -1.59857041e-01,\n",
       "       -6.04647964e-02, -4.81209971e-01, -7.72064242e-01, -6.45726363e-02,\n",
       "       -6.97376022e-01, -2.71066256e-01, -1.65505916e-01, -9.79422088e-01,\n",
       "       -5.69577700e-01, -8.27774450e-01, -4.95864926e-01, -6.48209391e-01,\n",
       "       -6.77854947e-01, -8.67105085e-01, -8.21636730e-01, -8.45694392e-01,\n",
       "       -6.23794265e-01, -2.87501005e-01, -4.12541220e-01, -7.53586918e-01,\n",
       "       -3.18101341e-01, -8.87389361e-01, -2.75015371e-02, -2.62901555e-01,\n",
       "       -6.17757473e-01, -2.14752848e-01, -6.02954961e-02, -3.48186582e-01,\n",
       "       -7.04139973e-01, -4.56311231e-01, -5.63530290e-01, -6.63968935e-01,\n",
       "       -8.35476946e-01, -8.28990853e-01, -9.03695306e-01, -3.55772455e-01,\n",
       "       -6.02790375e-01, -5.00182150e-02, -2.06144938e-02, -1.01680994e-01,\n",
       "       -2.93087916e-01, -6.10631626e-01, -3.61793535e-01, -8.79890981e-01,\n",
       "       -8.30043182e-01, -4.54634571e-01, -1.75491989e-01, -7.58268801e-01,\n",
       "       -4.05656387e-01, -1.29709823e-01, -2.69726146e-01, -5.85884004e-01,\n",
       "       -2.43689519e-04, -8.30878698e-01, -6.58270624e-01, -4.22882862e-01,\n",
       "       -3.02733831e-01, -4.91349839e-01, -6.05162539e-01, -6.47443907e-01,\n",
       "       -5.61999040e-01, -4.41231887e-01, -6.80885958e-01, -3.93233443e-01,\n",
       "       -7.31275557e-01, -2.94431253e-01, -5.20988601e-01, -3.04652496e-01,\n",
       "       -8.14149561e-01, -7.79066220e-01, -5.15780976e-01, -2.40279675e-01,\n",
       "       -2.19367614e-01, -9.70625909e-01, -3.89602812e-01, -8.33814135e-01])"
      ]
     },
     "execution_count": 10,
     "metadata": {},
     "output_type": "execute_result"
    }
   ],
   "source": [
    "np.random.uniform(-1,0,1000)# uper limit, lower limit, no of values"
   ]
  },
  {
   "cell_type": "code",
   "execution_count": 11,
   "metadata": {},
   "outputs": [],
   "source": [
    "# Normal distribution - bell shaped curve\n",
    "x = np.random.normal(0, 0.1, 1000) "
   ]
  },
  {
   "cell_type": "code",
   "execution_count": 12,
   "metadata": {},
   "outputs": [
    {
     "data": {
      "text/plain": [
       "(array([  4.,  19.,  76., 143., 270., 247., 151.,  65.,  20.,   5.]),\n",
       " array([-0.32544222, -0.26133262, -0.19722302, -0.13311343, -0.06900383,\n",
       "        -0.00489424,  0.05921536,  0.12332495,  0.18743455,  0.25154414,\n",
       "         0.31565374]),\n",
       " <a list of 10 Patch objects>)"
      ]
     },
     "execution_count": 12,
     "metadata": {},
     "output_type": "execute_result"
    },
    {
     "data": {
      "image/png": "[encoded data removed]",
      "text/plain": [
       "<Figure size 432x288 with 1 Axes>"
      ]
     },
     "metadata": {
      "needs_background": "light"
     },
     "output_type": "display_data"
    }
   ],
   "source": [
    "plt.hist(x)"
   ]
  },
  {
   "cell_type": "code",
   "execution_count": null,
   "metadata": {},
   "outputs": [],
   "source": []
  }
 ],
 "metadata": {
  "kernelspec": {
   "display_name": "Python 3",
   "language": "python",
   "name": "python3"
  },
  "language_info": {
   "codemirror_mode": {
    "name": "ipython",
    "version": 3
   },
   "file_extension": ".py",
   "mimetype": "text/x-python",
   "name": "python",
   "nbconvert_exporter": "python",
   "pygments_lexer": "ipython3",
   "version": "3.7.3"
  }
 },
 "nbformat": 4,
 "nbformat_minor": 2
}
